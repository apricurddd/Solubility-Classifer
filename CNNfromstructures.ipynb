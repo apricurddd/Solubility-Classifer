{
  "nbformat": 4,
  "nbformat_minor": 0,
  "metadata": {
    "colab": {
      "name": "CNNfromstructures.ipynb",
      "provenance": [],
      "collapsed_sections": []
    },
    "kernelspec": {
      "name": "python3",
      "display_name": "Python 3"
    }
  },
  "cells": [
    {
      "cell_type": "code",
      "metadata": {
        "id": "DlA-NRln1kQN",
        "colab_type": "code",
        "colab": {
          "base_uri": "https://localhost:8080/",
          "height": 121
        },
        "outputId": "fccf4ad4-3be4-4eec-ab22-996f566efa3f"
      },
      "source": [
        "# In this project, we use the solubility data from before and run CNN on images\n",
        "# generated from rdkit.  These images are also tagged as being hydrophobic and\n",
        "# hydrophilic. We then see if the CNN can correctly predict whether the structure\n",
        "# is hydrophilic or hydrophobic based on the the drawing of the structure. \n",
        "#%%\n",
        "import numpy as np\n",
        "import pandas as pd\n",
        "\n",
        "import matplotlib.pyplot as plt\n",
        "from matplotlib.backends.backend_agg import FigureCanvasAgg as FigureCanvas\n",
        "from matplotlib.figure import Figure\n",
        "\n",
        "from sklearn.model_selection import train_test_split\n",
        "\n",
        "import torch\n",
        "import torch.nn as nn\n",
        "import torch.optim as optim\n",
        "from torch.utils.data import Dataset, DataLoader, TensorDataset\n",
        "device = torch.device('cuda:0')\n",
        "import os\n",
        "from google.colab import drive\n",
        "drive.mount('/content/gdrive')   #mount at GFS\n",
        "dirpath = '/content/gdrive/My Drive/Colab Notebooks/Msc Project/image1'\n",
        "\n",
        "from tqdm import tqdm"
      ],
      "execution_count": 2,
      "outputs": [
        {
          "output_type": "stream",
          "text": [
            "Go to this URL in a browser: https://accounts.google.com/o/oauth2/auth?client_id=947318989803-6bn6qk8qdgf4n4g3pfee6491hc0brc4i.apps.googleusercontent.com&redirect_uri=urn%3aietf%3awg%3aoauth%3a2.0%3aoob&scope=email%20https%3a%2f%2fwww.googleapis.com%2fauth%2fdocs.test%20https%3a%2f%2fwww.googleapis.com%2fauth%2fdrive%20https%3a%2f%2fwww.googleapis.com%2fauth%2fdrive.photos.readonly%20https%3a%2f%2fwww.googleapis.com%2fauth%2fpeopleapi.readonly&response_type=code\n",
            "\n",
            "Enter your authorization code:\n",
            "··········\n",
            "Mounted at /content/gdrive\n"
          ],
          "name": "stdout"
        }
      ]
    },
    {
      "cell_type": "code",
      "metadata": {
        "id": "BotiosoH1rpe",
        "colab_type": "code",
        "colab": {}
      },
      "source": [
        "images_arr = np.load(dirpath + '/im_tensor.npy')\n",
        "labels_arr = np.load(dirpath + '/category_tensor.npy')\n",
        "\n",
        "images_train, images_test, labels_train, labels_test = train_test_split(\n",
        "    images_arr, labels_arr, test_size=0.2, random_state=25)\n",
        "\n",
        "# torch requires images in the format (channels, height, width)\n",
        "images_train = np.transpose(images_train, axes=(0, 3, 1, 2))\n",
        "images_test = np.transpose(images_test, axes=(0, 3, 1, 2))"
      ],
      "execution_count": 3,
      "outputs": []
    },
    {
      "cell_type": "code",
      "metadata": {
        "id": "csm-gv0N1vec",
        "colab_type": "code",
        "colab": {}
      },
      "source": [
        "class imagesDataset(Dataset):\n",
        "\n",
        "    def __init__(self, images, categories):\n",
        "\n",
        "        super(imagesDataset, self).__init__()\n",
        "\n",
        "        self.images = images\n",
        "        self.categories = categories\n",
        "\n",
        "    def __len__(self):\n",
        "        # len() specifies the upper bound for the index of the dataset\n",
        "        return len(self.categories)\n",
        "\n",
        "    def __getitem__(self, index):\n",
        "        # The generator executes the getitem() method to generate a sample\n",
        "        return self.images[index], self.categories[index]\n"
      ],
      "execution_count": 4,
      "outputs": []
    },
    {
      "cell_type": "code",
      "metadata": {
        "id": "rU9-HDoQ1xf5",
        "colab_type": "code",
        "colab": {}
      },
      "source": [
        "train_set = imagesDataset(images_train, labels_train)\n",
        "test_set = imagesDataset(images_test, labels_test)\n",
        "\n",
        "batch_size = 25\n",
        "train_generator = DataLoader(train_set, batch_size=batch_size, shuffle=True)\n",
        "test_generator = DataLoader(test_set, batch_size=batch_size, shuffle=True)\n"
      ],
      "execution_count": 5,
      "outputs": []
    },
    {
      "cell_type": "code",
      "metadata": {
        "id": "mCVRNnLP10KR",
        "colab_type": "code",
        "colab": {}
      },
      "source": [
        "# Next we define the CNN we want to use\n",
        "\n",
        "class CNN(nn.Module):\n",
        "\n",
        "    def __init__(self):\n",
        "        super(CNN, self).__init__()\n",
        "\n",
        "        self.conv1 = nn.Conv2d(4, 32, (3, 3))\n",
        "        self.conv2 = nn.Conv2d(32, 64, (3, 3))\n",
        "\n",
        "        self.fc1 = nn.Linear(104*104*64, 64)\n",
        "        self.fc2 = nn.Linear(64, 32)\n",
        "        self.fc3 = nn.Linear(32, 2)\n",
        "\n",
        "        self.relu = nn.ReLU()\n",
        "        self.maxpool = nn.MaxPool2d(2)\n",
        "        self.logsoftmax = nn.LogSoftmax(dim=0)\n",
        "\n",
        "    def forward(self, x):\n",
        "        x = self.relu(self.conv1(x))\n",
        "        x = self.maxpool(x)\n",
        "        x = self.relu(self.conv2(x))\n",
        "        x = self.maxpool(x)\n",
        "\n",
        "        x = x.view(-1, 104*104*64)\n",
        "\n",
        "        x = self.relu(self.fc1(x))\n",
        "        x = self.relu(self.fc2(x))\n",
        "        x = self.fc3(x)\n",
        "\n",
        "        x = self.logsoftmax(x)\n",
        "\n",
        "        return x\n",
        "    \n",
        "    # def length(self, x):\n",
        "    #     linearized = x.view(4, 1, -1)\n",
        "    #     return linearized.shape[0]"
      ],
      "execution_count": 6,
      "outputs": []
    },
    {
      "cell_type": "code",
      "metadata": {
        "id": "nBVvVU9413W1",
        "colab_type": "code",
        "colab": {}
      },
      "source": [
        "NUM_EPOCHS = 2\n",
        "device = torch.device('cuda' if torch.cuda.is_available() else 'cpu')\n",
        "cnn = CNN().to(device)\n",
        "\n",
        "objective = nn.NLLLoss()\n",
        "optimizer = optim.SGD(cnn.parameters(), lr=.00001)\n"
      ],
      "execution_count": 34,
      "outputs": []
    },
    {
      "cell_type": "code",
      "metadata": {
        "id": "v2Fww--315QO",
        "colab_type": "code",
        "colab": {
          "base_uri": "https://localhost:8080/",
          "height": 1000
        },
        "outputId": "011ad44a-0286-4637-be4e-33f734577557"
      },
      "source": [
        "total_loss = torch.zeros(NUM_EPOCHS)\n",
        "import time\n",
        "start_training = time.time()\n",
        "for i in range(NUM_EPOCHS):\n",
        "    for inp, labels in tqdm(train_generator):\n",
        "        inp, label = inp.float().to(device), labels.float().to(device)\n",
        "        out = cnn(inp)\n",
        "\n",
        "        optimizer.zero_grad()\n",
        "        # The reshaping is because pytorch needs these dimensions for \n",
        "        # NLLLoss to work properly. \n",
        "        loss = objective(out.squeeze(1), label.long().view(-1))\n",
        "        loss.backward()\n",
        "        optimizer.step()\n",
        "        total_loss[i] += loss.item()/(.8*len(train_generator)*batch_size)\n",
        "    print('Loss for Epoch', i, '=', total_loss[i])\n",
        "\n",
        "print(\"Finished Training\")\n",
        "end_training = time.time()\n",
        "print('Training time:',end_training-start_training)\n",
        "plt.plot(range(total_loss.shape[0]), total_loss)\n"
      ],
      "execution_count": 35,
      "outputs": [
        {
          "output_type": "stream",
          "text": [
            "\n",
            "  0%|          | 0/37 [00:00<?, ?it/s]\u001b[A\n",
            "  3%|▎         | 1/37 [00:06<03:57,  6.59s/it]\u001b[A\n",
            "  5%|▌         | 2/37 [00:12<03:44,  6.42s/it]\u001b[A\n",
            "  8%|▊         | 3/37 [00:18<03:32,  6.26s/it]\u001b[A\n",
            " 11%|█         | 4/37 [00:24<03:22,  6.13s/it]\u001b[A\n",
            " 14%|█▎        | 5/37 [00:30<03:11,  6.00s/it]\u001b[A\n",
            " 16%|█▌        | 6/37 [00:35<03:03,  5.91s/it]\u001b[A\n",
            " 19%|█▉        | 7/37 [00:41<02:56,  5.87s/it]\u001b[A\n",
            " 22%|██▏       | 8/37 [00:47<02:48,  5.82s/it]\u001b[A\n",
            " 24%|██▍       | 9/37 [00:52<02:42,  5.80s/it]\u001b[A\n",
            " 27%|██▋       | 10/37 [00:58<02:36,  5.79s/it]\u001b[A\n",
            " 30%|██▉       | 11/37 [01:04<02:30,  5.77s/it]\u001b[A\n",
            " 32%|███▏      | 12/37 [01:10<02:24,  5.79s/it]\u001b[A\n",
            " 35%|███▌      | 13/37 [01:16<02:18,  5.77s/it]\u001b[A\n",
            " 38%|███▊      | 14/37 [01:21<02:12,  5.76s/it]\u001b[A\n",
            " 41%|████      | 15/37 [01:27<02:06,  5.75s/it]\u001b[A\n",
            " 43%|████▎     | 16/37 [01:33<02:00,  5.74s/it]\u001b[A\n",
            " 46%|████▌     | 17/37 [01:38<01:54,  5.74s/it]\u001b[A\n",
            " 49%|████▊     | 18/37 [01:45<01:53,  5.95s/it]\u001b[A\n",
            " 51%|█████▏    | 19/37 [01:51<01:45,  5.88s/it]\u001b[A\n",
            " 54%|█████▍    | 20/37 [01:56<01:39,  5.84s/it]\u001b[A\n",
            " 57%|█████▋    | 21/37 [02:02<01:32,  5.79s/it]\u001b[A\n",
            " 59%|█████▉    | 22/37 [02:08<01:26,  5.80s/it]\u001b[A\n",
            " 62%|██████▏   | 23/37 [02:14<01:20,  5.78s/it]\u001b[A\n",
            " 65%|██████▍   | 24/37 [02:19<01:15,  5.77s/it]\u001b[A\n",
            " 68%|██████▊   | 25/37 [02:25<01:09,  5.76s/it]\u001b[A\n",
            " 70%|███████   | 26/37 [02:31<01:03,  5.75s/it]\u001b[A\n",
            " 73%|███████▎  | 27/37 [02:37<00:58,  5.85s/it]\u001b[A\n",
            " 76%|███████▌  | 28/37 [02:43<00:53,  5.90s/it]\u001b[A\n",
            " 78%|███████▊  | 29/37 [02:49<00:46,  5.84s/it]\u001b[A\n",
            " 81%|████████  | 30/37 [02:54<00:40,  5.81s/it]\u001b[A\n",
            " 84%|████████▍ | 31/37 [03:00<00:34,  5.79s/it]\u001b[A\n",
            " 86%|████████▋ | 32/37 [03:07<00:30,  6.07s/it]\u001b[A\n",
            " 89%|████████▉ | 33/37 [03:13<00:23,  5.98s/it]\u001b[A\n",
            " 92%|█████████▏| 34/37 [03:18<00:17,  5.88s/it]\u001b[A\n",
            " 95%|█████████▍| 35/37 [03:24<00:11,  5.83s/it]\u001b[A\n",
            " 97%|█████████▋| 36/37 [03:30<00:05,  5.77s/it]\u001b[A\n",
            "100%|██████████| 37/37 [03:30<00:00,  5.69s/it]\n",
            "\n",
            "  0%|          | 0/37 [00:00<?, ?it/s]\u001b[A"
          ],
          "name": "stderr"
        },
        {
          "output_type": "stream",
          "text": [
            "Loss for Epoch 0 = tensor(0.1573)\n"
          ],
          "name": "stdout"
        },
        {
          "output_type": "stream",
          "text": [
            "\n",
            "  3%|▎         | 1/37 [00:05<03:22,  5.63s/it]\u001b[A\n",
            "  5%|▌         | 2/37 [00:11<03:18,  5.66s/it]\u001b[A\n",
            "  8%|▊         | 3/37 [00:17<03:13,  5.69s/it]\u001b[A\n",
            " 11%|█         | 4/37 [00:22<03:07,  5.69s/it]\u001b[A\n",
            " 14%|█▎        | 5/37 [00:28<03:02,  5.71s/it]\u001b[A\n",
            " 16%|█▌        | 6/37 [00:34<02:58,  5.77s/it]\u001b[A\n",
            " 19%|█▉        | 7/37 [00:40<02:54,  5.81s/it]\u001b[A\n",
            " 22%|██▏       | 8/37 [00:46<02:48,  5.80s/it]\u001b[A\n",
            " 24%|██▍       | 9/37 [00:51<02:42,  5.79s/it]\u001b[A\n",
            " 27%|██▋       | 10/37 [00:57<02:35,  5.75s/it]\u001b[A\n",
            " 30%|██▉       | 11/37 [01:03<02:30,  5.77s/it]\u001b[A\n",
            " 32%|███▏      | 12/37 [01:09<02:25,  5.81s/it]\u001b[A\n",
            " 35%|███▌      | 13/37 [01:15<02:19,  5.83s/it]\u001b[A\n",
            " 38%|███▊      | 14/37 [01:21<02:14,  5.85s/it]\u001b[A\n",
            " 41%|████      | 15/37 [01:26<02:08,  5.83s/it]\u001b[A\n",
            " 43%|████▎     | 16/37 [01:32<02:02,  5.83s/it]\u001b[A\n",
            " 46%|████▌     | 17/37 [01:38<01:58,  5.93s/it]\u001b[A\n",
            " 49%|████▊     | 18/37 [01:44<01:51,  5.85s/it]\u001b[A\n",
            " 51%|█████▏    | 19/37 [01:50<01:44,  5.81s/it]\u001b[A\n",
            " 54%|█████▍    | 20/37 [01:55<01:37,  5.75s/it]\u001b[A\n",
            " 57%|█████▋    | 21/37 [02:01<01:31,  5.72s/it]\u001b[A\n",
            " 59%|█████▉    | 22/37 [02:07<01:25,  5.69s/it]\u001b[A\n",
            " 62%|██████▏   | 23/37 [02:12<01:19,  5.67s/it]\u001b[A\n",
            " 65%|██████▍   | 24/37 [02:18<01:13,  5.68s/it]\u001b[A\n",
            " 68%|██████▊   | 25/37 [02:24<01:08,  5.68s/it]\u001b[A\n",
            " 70%|███████   | 26/37 [02:29<01:02,  5.68s/it]\u001b[A\n",
            " 73%|███████▎  | 27/37 [02:35<00:57,  5.73s/it]\u001b[A\n",
            " 76%|███████▌  | 28/37 [02:41<00:51,  5.73s/it]\u001b[A\n",
            " 78%|███████▊  | 29/37 [02:46<00:45,  5.69s/it]\u001b[A\n",
            " 81%|████████  | 30/37 [02:52<00:39,  5.68s/it]\u001b[A\n",
            " 84%|████████▍ | 31/37 [02:58<00:33,  5.66s/it]\u001b[A\n",
            " 86%|████████▋ | 32/37 [03:03<00:28,  5.66s/it]\u001b[A\n",
            " 89%|████████▉ | 33/37 [03:09<00:22,  5.65s/it]\u001b[A\n",
            " 92%|█████████▏| 34/37 [03:15<00:16,  5.62s/it]\u001b[A\n",
            " 95%|█████████▍| 35/37 [03:21<00:11,  5.72s/it]\u001b[A\n",
            " 97%|█████████▋| 36/37 [03:26<00:05,  5.74s/it]\u001b[A\n",
            "100%|██████████| 37/37 [03:27<00:00,  5.60s/it]"
          ],
          "name": "stderr"
        },
        {
          "output_type": "stream",
          "text": [
            "Loss for Epoch 1 = tensor(0.1542)\n",
            "Finished Training\n",
            "Training time: 417.66417026519775\n"
          ],
          "name": "stdout"
        },
        {
          "output_type": "stream",
          "text": [
            "\n"
          ],
          "name": "stderr"
        },
        {
          "output_type": "execute_result",
          "data": {
            "text/plain": [
              "[<matplotlib.lines.Line2D at 0x7f05f9c5b240>]"
            ]
          },
          "metadata": {
            "tags": []
          },
          "execution_count": 35
        },
        {
          "output_type": "display_data",
          "data": {
            "image/png": "[encoded data removed]",
            "text/plain": [
              "<Figure size 432x288 with 1 Axes>"
            ]
          },
          "metadata": {
            "tags": [],
            "needs_background": "light"
          }
        }
      ]
    },
    {
      "cell_type": "code",
      "metadata": {
        "id": "9Qay0Nm4C3Ai",
        "colab_type": "code",
        "colab": {
          "base_uri": "https://localhost:8080/",
          "height": 534
        },
        "outputId": "1bf76e6c-1960-44c6-fff6-e43ae2b332f5"
      },
      "source": [
        "\n",
        "start_test = time.time()\n",
        "\n",
        "for inp, labels in tqdm(test_generator):\n",
        "        inp, label = inp.float().to(device), labels.float().to(device)\n",
        "        out = cnn(inp)\n",
        "\n",
        "        _, predicted = torch.max(out.data, 1)\n",
        "        loss = objective(out.squeeze(1), label.long().view(-1))\n",
        "        loss.backward()\n",
        "        total_loss[i] += loss.item()/(.8*len(test_generator)*batch_size)\n",
        "print('Loss for Epoch', i, '=', total_loss[i])\n",
        "print(\"Finish Testing\")\n",
        "end_test = time.time()\n",
        "print('Test time:',end_test-start_test)\n",
        "plt.plot(range(total_loss.shape[0]), total_loss)"
      ],
      "execution_count": 21,
      "outputs": [
        {
          "output_type": "stream",
          "text": [
            "\n",
            "  0%|          | 0/10 [00:00<?, ?it/s]\u001b[A\n",
            " 10%|█         | 1/10 [00:06<00:58,  6.45s/it]\u001b[A\n",
            " 20%|██        | 2/10 [00:12<00:50,  6.28s/it]\u001b[A\n",
            " 30%|███       | 3/10 [00:18<00:42,  6.13s/it]\u001b[A\n",
            " 40%|████      | 4/10 [00:23<00:36,  6.03s/it]\u001b[A\n",
            " 50%|█████     | 5/10 [00:29<00:29,  5.99s/it]\u001b[A\n",
            " 60%|██████    | 6/10 [00:35<00:23,  5.98s/it]\u001b[A\n",
            " 70%|███████   | 7/10 [00:41<00:17,  6.00s/it]\u001b[A\n",
            " 80%|████████  | 8/10 [00:47<00:12,  6.00s/it]\u001b[A\n",
            " 90%|█████████ | 9/10 [00:53<00:06,  6.04s/it]\u001b[A\n",
            "100%|██████████| 10/10 [00:54<00:00,  5.43s/it]"
          ],
          "name": "stderr"
        },
        {
          "output_type": "stream",
          "text": [
            "Loss for Epoch 1 = tensor(0.2794)\n",
            "Finish Testing\n",
            "Test time: 54.33452892303467\n"
          ],
          "name": "stdout"
        },
        {
          "output_type": "stream",
          "text": [
            "\n"
          ],
          "name": "stderr"
        },
        {
          "output_type": "execute_result",
          "data": {
            "text/plain": [
              "[<matplotlib.lines.Line2D at 0x7f060426e898>]"
            ]
          },
          "metadata": {
            "tags": []
          },
          "execution_count": 21
        },
        {
          "output_type": "display_data",
          "data": {
            "image/png": "[encoded data removed]",
            "text/plain": [
              "<Figure size 432x288 with 1 Axes>"
            ]
          },
          "metadata": {
            "tags": [],
            "needs_background": "light"
          }
        }
      ]
    },
    {
      "cell_type": "code",
      "metadata": {
        "id": "eLtOb7bQ1-Zp",
        "colab_type": "code",
        "colab": {
          "base_uri": "https://localhost:8080/",
          "height": 185
        },
        "outputId": "91f8eb7d-b1f9-46e9-b98d-4a0b4ccef104"
      },
      "source": [
        "f = dirpath + 'cnn_saved.pt'\n",
        "torch.save(cnn.state_dict(), f)\n",
        "#%%\n",
        "f = dirpath + 'cnn_saved.pt'\n",
        "cnn = CNN()\n",
        "cnn.load_state_dict(torch.load(f))\n",
        "cnn.eval()\n",
        "cnn.to(device)\n"
      ],
      "execution_count": 12,
      "outputs": [
        {
          "output_type": "execute_result",
          "data": {
            "text/plain": [
              "CNN(\n",
              "  (conv1): Conv2d(4, 32, kernel_size=(3, 3), stride=(1, 1))\n",
              "  (conv2): Conv2d(32, 64, kernel_size=(3, 3), stride=(1, 1))\n",
              "  (fc1): Linear(in_features=692224, out_features=64, bias=True)\n",
              "  (fc2): Linear(in_features=64, out_features=32, bias=True)\n",
              "  (fc3): Linear(in_features=32, out_features=2, bias=True)\n",
              "  (relu): ReLU()\n",
              "  (maxpool): MaxPool2d(kernel_size=2, stride=2, padding=0, dilation=1, ceil_mode=False)\n",
              "  (logsoftmax): LogSoftmax(dim=0)\n",
              ")"
            ]
          },
          "metadata": {
            "tags": []
          },
          "execution_count": 12
        }
      ]
    },
    {
      "cell_type": "code",
      "metadata": {
        "id": "eOjf_37j6aoJ",
        "colab_type": "code",
        "colab": {
          "base_uri": "https://localhost:8080/",
          "height": 319
        },
        "outputId": "2963a1ac-0dae-48f5-b20c-8d8c102b54f1"
      },
      "source": [
        "from PIL import Image\n",
        "images1 = Image.open(dirpath + '/figs/mol66.png')\n",
        "plt.imshow(images1)\n",
        "preds1 = torch.argmax(cnn(inp.float().to(device)), dim=1)\n",
        "\n",
        "print(preds1)\n",
        "labels = label.to(device).view(-1)\n",
        "print(labels)\n",
        "if preds1.item() == 1:\n",
        "  print('Soluble')\n",
        "else:\n",
        "  print('Insoluble')\n"
      ],
      "execution_count": 23,
      "outputs": [
        {
          "output_type": "stream",
          "text": [
            "tensor([1])\n",
            "tensor([0.])\n",
            "Soluble\n"
          ],
          "name": "stdout"
        },
        {
          "output_type": "display_data",
          "data": {
            "image/png": "[encoded data removed]",
            "text/plain": [
              "<Figure size 432x288 with 1 Axes>"
            ]
          },
          "metadata": {
            "tags": [],
            "needs_background": "light"
          }
        }
      ]
    },
    {
      "cell_type": "code",
      "metadata": {
        "id": "Y6tJxFa92BtY",
        "colab_type": "code",
        "colab": {}
      },
      "source": [
        "\n",
        "def validation():\n",
        "    errors = 0\n",
        "    labels_cm = np.array([])\n",
        "    predicted_cm = np.array([]) \n",
        "    for inp, label in tqdm(test_generator):\n",
        "        preds = torch.argmax(cnn(inp.float().to(device)), dim=1)\n",
        "        print(preds)\n",
        "        labels = label.to(device).view(-1)\n",
        "        print(labels)\n",
        "        stacked = torch.stack((labels,preds),dim=1)\n",
        "        print(stacked)\n",
        "        cmt = torch.zeros(2,2, dtype=torch.int64)\n",
        "        for p in stacked:\n",
        "          tl, pl = p.tolist()\n",
        "          cmt[tl, pl] = cmt[tl, pl] + 1\n",
        "        plot_confusion_matrix(cmt,[0,1])\n",
        "        errors += torch.sum((preds==labels)*1).item()\n",
        "        print(errors)\n",
        "    return errors*100/(len(test_generator)*batch_size)"
      ],
      "execution_count": 32,
      "outputs": []
    },
    {
      "cell_type": "code",
      "metadata": {
        "id": "KouM8c-WaT0d",
        "colab_type": "code",
        "colab": {
          "base_uri": "https://localhost:8080/",
          "height": 538
        },
        "outputId": "214bd6a3-6451-4a4c-eedc-59fecc137c04"
      },
      "source": [
        "preds = torch.argmax(cnn(inp.float().to(device)), dim=1)\n",
        "\n",
        "labels = label.to(device).view(-1)\n",
        "\n",
        "print(labels)\n",
        "print(preds)\n",
        "stacked = torch.stack((labels,preds),dim=1)\n",
        "print(stacked)\n",
        "cmt = torch.zeros(2,2, dtype=torch.int64)\n",
        "for p in stacked:\n",
        "    tl, pl = p.tolist()\n",
        "    cmt[tl, pl] = cmt[tl, pl] + 1\n",
        "cmt\n",
        "\n"
      ],
      "execution_count": 31,
      "outputs": [
        {
          "output_type": "stream",
          "text": [
            "tensor([1, 1, 1, 0, 1, 1, 1, 0, 1, 1, 0, 0, 0, 0, 0, 0, 1, 1, 0, 0, 1, 0, 0, 1,\n",
            "        1], dtype=torch.int32)\n",
            "tensor([0, 1, 1, 0, 1, 0, 1, 0, 1, 1, 1, 0, 0, 0, 1, 1, 0, 1, 1, 1, 0, 0, 0, 1,\n",
            "        0])\n",
            "tensor([[1, 0],\n",
            "        [1, 1],\n",
            "        [1, 1],\n",
            "        [0, 0],\n",
            "        [1, 1],\n",
            "        [1, 0],\n",
            "        [1, 1],\n",
            "        [0, 0],\n",
            "        [1, 1],\n",
            "        [1, 1],\n",
            "        [0, 1],\n",
            "        [0, 0],\n",
            "        [0, 0],\n",
            "        [0, 0],\n",
            "        [0, 1],\n",
            "        [0, 1],\n",
            "        [1, 0],\n",
            "        [1, 1],\n",
            "        [0, 1],\n",
            "        [0, 1],\n",
            "        [1, 0],\n",
            "        [0, 0],\n",
            "        [0, 0],\n",
            "        [1, 1],\n",
            "        [1, 0]])\n"
          ],
          "name": "stdout"
        },
        {
          "output_type": "execute_result",
          "data": {
            "text/plain": [
              "tensor([[7, 5],\n",
              "        [5, 8]])"
            ]
          },
          "metadata": {
            "tags": []
          },
          "execution_count": 31
        }
      ]
    },
    {
      "cell_type": "code",
      "metadata": {
        "id": "DcxotCwaRpYq",
        "colab_type": "code",
        "colab": {}
      },
      "source": [
        "import itertools\n",
        "\n",
        "def plot_confusion_matrix(cm,\n",
        "                          classes,\n",
        "                          normalize=False,\n",
        "                          title='Confusion matrix',\n",
        "                          cmap=plt.cm.Blues):\n",
        "    \"\"\"\n",
        "    This function prints and plots the confusion matrix very prettily.\n",
        "    Normalization can be applied by setting `normalize=True`.\n",
        "    \"\"\"\n",
        "    if normalize:\n",
        "        cm = cm.astype('float') / cm.sum(axis=1)[:, np.newaxis]\n",
        "        print(\"Normalized confusion matrix\")\n",
        "    else:\n",
        "        print('Confusion matrix, without normalization')\n",
        "\n",
        "    plt.imshow(cm, interpolation='nearest', cmap=cmap)\n",
        "    plt.title(title)\n",
        "\n",
        "    # Specify the tick marks and axis text\n",
        "    tick_marks = np.arange(len(classes))\n",
        "    plt.xticks(tick_marks, classes, rotation=90)\n",
        "    plt.yticks(tick_marks, classes)\n",
        "\n",
        "    # The data formatting\n",
        "    fmt = '.2f' if normalize else 'd'\n",
        "    thresh = cm.max() / 2.\n",
        "    \n",
        "    # Print the text of the matrix, adjusting text colour for display\n",
        "    for i, j in itertools.product(range(cm.shape[0]), range(cm.shape[1])):\n",
        "        plt.text(j, i, format(cm[i, j], fmt),\n",
        "                 horizontalalignment=\"center\",\n",
        "                 color=\"white\" if cm[i, j] > thresh else \"black\")\n",
        "\n",
        "    plt.ylabel('True label')\n",
        "    plt.xlabel('Predicted label')\n",
        "    plt.tight_layout()\n",
        "    plt.show()"
      ],
      "execution_count": 24,
      "outputs": []
    },
    {
      "cell_type": "code",
      "metadata": {
        "id": "w3a7LOy4RqQ5",
        "colab_type": "code",
        "colab": {
          "base_uri": "https://localhost:8080/",
          "height": 314
        },
        "outputId": "71e28771-6107-4b48-e3bb-795b72b709c9"
      },
      "source": [
        "plot_confusion_matrix(cmt,[0,1])"
      ],
      "execution_count": 29,
      "outputs": [
        {
          "output_type": "stream",
          "text": [
            "Confusion matrix, without normalization\n"
          ],
          "name": "stdout"
        },
        {
          "output_type": "display_data",
          "data": {
            "image/png": "[encoded data removed]",
            "text/plain": [
              "<Figure size 432x288 with 1 Axes>"
            ]
          },
          "metadata": {
            "tags": [],
            "needs_background": "light"
          }
        }
      ]
    },
    {
      "cell_type": "code",
      "metadata": {
        "id": "mZIVIOcC2FSO",
        "colab_type": "code",
        "colab": {
          "base_uri": "https://localhost:8080/",
          "height": 1000
        },
        "outputId": "afe78dde-798f-4d9e-8639-7628970601be"
      },
      "source": [
        "accuracy = validation()\n",
        "\n",
        "print('/n')\n",
        "print('accuracy:', accuracy, '%')"
      ],
      "execution_count": 33,
      "outputs": [
        {
          "output_type": "stream",
          "text": [
            "\n",
            "  0%|          | 0/10 [00:00<?, ?it/s]\u001b[A"
          ],
          "name": "stderr"
        },
        {
          "output_type": "stream",
          "text": [
            "tensor([1, 1, 0, 1, 0, 0, 0, 0, 1, 1, 1, 1, 1, 0, 0, 0, 1, 1, 0, 0, 1, 0, 0, 0,\n",
            "        0])\n",
            "tensor([1, 1, 0, 1, 1, 0, 1, 1, 1, 1, 1, 1, 1, 0, 0, 1, 1, 1, 0, 0, 1, 0, 0, 1,\n",
            "        0], dtype=torch.int32)\n",
            "tensor([[1, 1],\n",
            "        [1, 1],\n",
            "        [0, 0],\n",
            "        [1, 1],\n",
            "        [1, 0],\n",
            "        [0, 0],\n",
            "        [1, 0],\n",
            "        [1, 0],\n",
            "        [1, 1],\n",
            "        [1, 1],\n",
            "        [1, 1],\n",
            "        [1, 1],\n",
            "        [1, 1],\n",
            "        [0, 0],\n",
            "        [0, 0],\n",
            "        [1, 0],\n",
            "        [1, 1],\n",
            "        [1, 1],\n",
            "        [0, 0],\n",
            "        [0, 0],\n",
            "        [1, 1],\n",
            "        [0, 0],\n",
            "        [0, 0],\n",
            "        [1, 0],\n",
            "        [0, 0]])\n",
            "Confusion matrix, without normalization\n"
          ],
          "name": "stdout"
        },
        {
          "output_type": "display_data",
          "data": {
            "image/png": "[encoded data removed]",
            "text/plain": [
              "<Figure size 432x288 with 1 Axes>"
            ]
          },
          "metadata": {
            "tags": [],
            "needs_background": "light"
          }
        },
        {
          "output_type": "stream",
          "text": [
            "\n",
            " 10%|█         | 1/10 [00:05<00:45,  5.02s/it]\u001b[A"
          ],
          "name": "stderr"
        },
        {
          "output_type": "stream",
          "text": [
            "20\n",
            "tensor([0, 1, 0, 0, 0, 0, 1, 1, 1, 1, 0, 0, 1, 1, 1, 0, 1, 1, 1, 0, 0, 0, 1, 1,\n",
            "        0])\n",
            "tensor([0, 1, 0, 1, 0, 0, 1, 0, 1, 1, 0, 0, 1, 0, 1, 1, 1, 1, 1, 1, 1, 0, 0, 1,\n",
            "        0], dtype=torch.int32)\n",
            "tensor([[0, 0],\n",
            "        [1, 1],\n",
            "        [0, 0],\n",
            "        [1, 0],\n",
            "        [0, 0],\n",
            "        [0, 0],\n",
            "        [1, 1],\n",
            "        [0, 1],\n",
            "        [1, 1],\n",
            "        [1, 1],\n",
            "        [0, 0],\n",
            "        [0, 0],\n",
            "        [1, 1],\n",
            "        [0, 1],\n",
            "        [1, 1],\n",
            "        [1, 0],\n",
            "        [1, 1],\n",
            "        [1, 1],\n",
            "        [1, 1],\n",
            "        [1, 0],\n",
            "        [1, 0],\n",
            "        [0, 0],\n",
            "        [0, 1],\n",
            "        [1, 1],\n",
            "        [0, 0]])\n",
            "Confusion matrix, without normalization\n"
          ],
          "name": "stdout"
        },
        {
          "output_type": "display_data",
          "data": {
            "image/png": "[encoded data removed]",
            "text/plain": [
              "<Figure size 432x288 with 1 Axes>"
            ]
          },
          "metadata": {
            "tags": [],
            "needs_background": "light"
          }
        },
        {
          "output_type": "stream",
          "text": [
            "\n",
            " 20%|██        | 2/10 [00:07<00:34,  4.37s/it]\u001b[A"
          ],
          "name": "stderr"
        },
        {
          "output_type": "stream",
          "text": [
            "38\n",
            "tensor([1, 1, 0, 1, 0, 0, 1, 0, 1, 0, 1, 0, 1, 0, 1, 1, 1, 1, 1, 0, 0, 1, 0, 1,\n",
            "        0])\n",
            "tensor([1, 1, 0, 1, 0, 0, 1, 0, 1, 0, 1, 0, 1, 1, 1, 1, 0, 1, 0, 1, 0, 1, 0, 0,\n",
            "        0], dtype=torch.int32)\n",
            "tensor([[1, 1],\n",
            "        [1, 1],\n",
            "        [0, 0],\n",
            "        [1, 1],\n",
            "        [0, 0],\n",
            "        [0, 0],\n",
            "        [1, 1],\n",
            "        [0, 0],\n",
            "        [1, 1],\n",
            "        [0, 0],\n",
            "        [1, 1],\n",
            "        [0, 0],\n",
            "        [1, 1],\n",
            "        [1, 0],\n",
            "        [1, 1],\n",
            "        [1, 1],\n",
            "        [0, 1],\n",
            "        [1, 1],\n",
            "        [0, 1],\n",
            "        [1, 0],\n",
            "        [0, 0],\n",
            "        [1, 1],\n",
            "        [0, 0],\n",
            "        [0, 1],\n",
            "        [0, 0]])\n",
            "Confusion matrix, without normalization\n"
          ],
          "name": "stdout"
        },
        {
          "output_type": "display_data",
          "data": {
            "image/png": "[encoded data removed]",
            "text/plain": [
              "<Figure size 432x288 with 1 Axes>"
            ]
          },
          "metadata": {
            "tags": [],
            "needs_background": "light"
          }
        },
        {
          "output_type": "stream",
          "text": [
            "\n",
            " 30%|███       | 3/10 [00:10<00:27,  3.92s/it]\u001b[A"
          ],
          "name": "stderr"
        },
        {
          "output_type": "stream",
          "text": [
            "58\n",
            "tensor([1, 1, 1, 1, 1, 0, 1, 1, 0, 0, 1, 0, 1, 1, 0, 0, 1, 0, 1, 0, 0, 1, 1, 0,\n",
            "        0])\n",
            "tensor([1, 1, 0, 1, 1, 0, 0, 1, 0, 0, 0, 0, 1, 0, 0, 0, 1, 0, 1, 0, 0, 1, 1, 0,\n",
            "        1], dtype=torch.int32)\n",
            "tensor([[1, 1],\n",
            "        [1, 1],\n",
            "        [0, 1],\n",
            "        [1, 1],\n",
            "        [1, 1],\n",
            "        [0, 0],\n",
            "        [0, 1],\n",
            "        [1, 1],\n",
            "        [0, 0],\n",
            "        [0, 0],\n",
            "        [0, 1],\n",
            "        [0, 0],\n",
            "        [1, 1],\n",
            "        [0, 1],\n",
            "        [0, 0],\n",
            "        [0, 0],\n",
            "        [1, 1],\n",
            "        [0, 0],\n",
            "        [1, 1],\n",
            "        [0, 0],\n",
            "        [0, 0],\n",
            "        [1, 1],\n",
            "        [1, 1],\n",
            "        [0, 0],\n",
            "        [1, 0]])\n",
            "Confusion matrix, without normalization\n"
          ],
          "name": "stdout"
        },
        {
          "output_type": "display_data",
          "data": {
            "image/png": "[encoded data removed]",
            "text/plain": [
              "<Figure size 432x288 with 1 Axes>"
            ]
          },
          "metadata": {
            "tags": [],
            "needs_background": "light"
          }
        },
        {
          "output_type": "stream",
          "text": [
            "\n",
            " 40%|████      | 4/10 [00:13<00:21,  3.58s/it]\u001b[A"
          ],
          "name": "stderr"
        },
        {
          "output_type": "stream",
          "text": [
            "78\n",
            "tensor([0, 0, 0, 1, 1, 0, 0, 0, 0, 0, 1, 1, 1, 1, 0, 1, 0, 0, 0, 0, 1, 1, 1, 1,\n",
            "        0])\n",
            "tensor([0, 0, 0, 1, 1, 1, 1, 0, 0, 0, 1, 1, 1, 1, 0, 1, 0, 0, 0, 1, 0, 1, 1, 1,\n",
            "        0], dtype=torch.int32)\n",
            "tensor([[0, 0],\n",
            "        [0, 0],\n",
            "        [0, 0],\n",
            "        [1, 1],\n",
            "        [1, 1],\n",
            "        [1, 0],\n",
            "        [1, 0],\n",
            "        [0, 0],\n",
            "        [0, 0],\n",
            "        [0, 0],\n",
            "        [1, 1],\n",
            "        [1, 1],\n",
            "        [1, 1],\n",
            "        [1, 1],\n",
            "        [0, 0],\n",
            "        [1, 1],\n",
            "        [0, 0],\n",
            "        [0, 0],\n",
            "        [0, 0],\n",
            "        [1, 0],\n",
            "        [0, 1],\n",
            "        [1, 1],\n",
            "        [1, 1],\n",
            "        [1, 1],\n",
            "        [0, 0]])\n",
            "Confusion matrix, without normalization\n"
          ],
          "name": "stdout"
        },
        {
          "output_type": "display_data",
          "data": {
            "image/png": "[encoded data removed]",
            "text/plain": [
              "<Figure size 432x288 with 1 Axes>"
            ]
          },
          "metadata": {
            "tags": [],
            "needs_background": "light"
          }
        },
        {
          "output_type": "stream",
          "text": [
            "\n",
            " 50%|█████     | 5/10 [00:16<00:16,  3.33s/it]\u001b[A"
          ],
          "name": "stderr"
        },
        {
          "output_type": "stream",
          "text": [
            "99\n",
            "tensor([1, 1, 0, 0, 1, 0, 1, 0, 0, 0, 0, 1, 1, 1, 0, 0, 0, 0, 1, 1, 0, 0, 1, 1,\n",
            "        1])\n",
            "tensor([1, 1, 0, 0, 1, 0, 1, 0, 0, 0, 0, 0, 0, 1, 0, 1, 1, 0, 1, 1, 0, 1, 1, 0,\n",
            "        0], dtype=torch.int32)\n",
            "tensor([[1, 1],\n",
            "        [1, 1],\n",
            "        [0, 0],\n",
            "        [0, 0],\n",
            "        [1, 1],\n",
            "        [0, 0],\n",
            "        [1, 1],\n",
            "        [0, 0],\n",
            "        [0, 0],\n",
            "        [0, 0],\n",
            "        [0, 0],\n",
            "        [0, 1],\n",
            "        [0, 1],\n",
            "        [1, 1],\n",
            "        [0, 0],\n",
            "        [1, 0],\n",
            "        [1, 0],\n",
            "        [0, 0],\n",
            "        [1, 1],\n",
            "        [1, 1],\n",
            "        [0, 0],\n",
            "        [1, 0],\n",
            "        [1, 1],\n",
            "        [0, 1],\n",
            "        [0, 1]])\n",
            "Confusion matrix, without normalization\n"
          ],
          "name": "stdout"
        },
        {
          "output_type": "display_data",
          "data": {
            "image/png": "[encoded data removed]",
            "text/plain": [
              "<Figure size 432x288 with 1 Axes>"
            ]
          },
          "metadata": {
            "tags": [],
            "needs_background": "light"
          }
        },
        {
          "output_type": "stream",
          "text": [
            "\n",
            " 60%|██████    | 6/10 [00:19<00:12,  3.18s/it]\u001b[A"
          ],
          "name": "stderr"
        },
        {
          "output_type": "stream",
          "text": [
            "117\n",
            "tensor([1, 1, 1, 0, 1, 0, 0, 1, 0, 1, 1, 1, 0, 1, 1, 1, 0, 1, 1, 1, 0, 0, 0, 1,\n",
            "        0])\n",
            "tensor([1, 0, 0, 0, 1, 0, 0, 1, 1, 1, 0, 1, 1, 0, 0, 1, 0, 1, 0, 0, 0, 0, 0, 1,\n",
            "        0], dtype=torch.int32)\n",
            "tensor([[1, 1],\n",
            "        [0, 1],\n",
            "        [0, 1],\n",
            "        [0, 0],\n",
            "        [1, 1],\n",
            "        [0, 0],\n",
            "        [0, 0],\n",
            "        [1, 1],\n",
            "        [1, 0],\n",
            "        [1, 1],\n",
            "        [0, 1],\n",
            "        [1, 1],\n",
            "        [1, 0],\n",
            "        [0, 1],\n",
            "        [0, 1],\n",
            "        [1, 1],\n",
            "        [0, 0],\n",
            "        [1, 1],\n",
            "        [0, 1],\n",
            "        [0, 1],\n",
            "        [0, 0],\n",
            "        [0, 0],\n",
            "        [0, 0],\n",
            "        [1, 1],\n",
            "        [0, 0]])\n",
            "Confusion matrix, without normalization\n"
          ],
          "name": "stdout"
        },
        {
          "output_type": "display_data",
          "data": {
            "image/png": "[encoded data removed]",
            "text/plain": [
              "<Figure size 432x288 with 1 Axes>"
            ]
          },
          "metadata": {
            "tags": [],
            "needs_background": "light"
          }
        },
        {
          "output_type": "stream",
          "text": [
            "\n",
            " 70%|███████   | 7/10 [00:21<00:09,  3.08s/it]\u001b[A"
          ],
          "name": "stderr"
        },
        {
          "output_type": "stream",
          "text": [
            "133\n",
            "tensor([0, 1, 0, 1, 1, 1, 0, 1, 1, 0, 0, 0, 1, 0, 1, 0, 1, 1, 0, 1, 0, 0, 0, 1,\n",
            "        1])\n",
            "tensor([0, 1, 0, 1, 1, 0, 1, 1, 1, 1, 0, 1, 1, 0, 1, 0, 1, 1, 1, 1, 1, 0, 0, 0,\n",
            "        1], dtype=torch.int32)\n",
            "tensor([[0, 0],\n",
            "        [1, 1],\n",
            "        [0, 0],\n",
            "        [1, 1],\n",
            "        [1, 1],\n",
            "        [0, 1],\n",
            "        [1, 0],\n",
            "        [1, 1],\n",
            "        [1, 1],\n",
            "        [1, 0],\n",
            "        [0, 0],\n",
            "        [1, 0],\n",
            "        [1, 1],\n",
            "        [0, 0],\n",
            "        [1, 1],\n",
            "        [0, 0],\n",
            "        [1, 1],\n",
            "        [1, 1],\n",
            "        [1, 0],\n",
            "        [1, 1],\n",
            "        [1, 0],\n",
            "        [0, 0],\n",
            "        [0, 0],\n",
            "        [0, 1],\n",
            "        [1, 1]])\n",
            "Confusion matrix, without normalization\n"
          ],
          "name": "stdout"
        },
        {
          "output_type": "display_data",
          "data": {
            "image/png": "[encoded data removed]",
            "text/plain": [
              "<Figure size 432x288 with 1 Axes>"
            ]
          },
          "metadata": {
            "tags": [],
            "needs_background": "light"
          }
        },
        {
          "output_type": "stream",
          "text": [
            "\n",
            " 80%|████████  | 8/10 [00:24<00:05,  3.00s/it]\u001b[A"
          ],
          "name": "stderr"
        },
        {
          "output_type": "stream",
          "text": [
            "151\n",
            "tensor([0, 1, 0, 0, 1, 1, 1, 0, 1, 1, 1, 0, 1, 1, 1, 0, 1, 0, 1, 0, 1, 0, 1, 0,\n",
            "        0])\n",
            "tensor([0, 0, 0, 0, 1, 1, 1, 0, 1, 1, 0, 0, 1, 0, 1, 0, 1, 0, 1, 0, 1, 1, 0, 0,\n",
            "        1], dtype=torch.int32)\n",
            "tensor([[0, 0],\n",
            "        [0, 1],\n",
            "        [0, 0],\n",
            "        [0, 0],\n",
            "        [1, 1],\n",
            "        [1, 1],\n",
            "        [1, 1],\n",
            "        [0, 0],\n",
            "        [1, 1],\n",
            "        [1, 1],\n",
            "        [0, 1],\n",
            "        [0, 0],\n",
            "        [1, 1],\n",
            "        [0, 1],\n",
            "        [1, 1],\n",
            "        [0, 0],\n",
            "        [1, 1],\n",
            "        [0, 0],\n",
            "        [1, 1],\n",
            "        [0, 0],\n",
            "        [1, 1],\n",
            "        [1, 0],\n",
            "        [0, 1],\n",
            "        [0, 0],\n",
            "        [1, 0]])\n",
            "Confusion matrix, without normalization\n"
          ],
          "name": "stdout"
        },
        {
          "output_type": "display_data",
          "data": {
            "image/png": "[encoded data removed]",
            "text/plain": [
              "<Figure size 432x288 with 1 Axes>"
            ]
          },
          "metadata": {
            "tags": [],
            "needs_background": "light"
          }
        },
        {
          "output_type": "stream",
          "text": [
            "\n",
            " 90%|█████████ | 9/10 [00:27<00:02,  2.95s/it]\u001b[A"
          ],
          "name": "stderr"
        },
        {
          "output_type": "stream",
          "text": [
            "170\n",
            "tensor([1])\n",
            "tensor([0], dtype=torch.int32)\n",
            "tensor([[0, 1]])\n",
            "Confusion matrix, without normalization\n"
          ],
          "name": "stdout"
        },
        {
          "output_type": "display_data",
          "data": {
            "image/png": "[encoded data removed]",
            "text/plain": [
              "<Figure size 432x288 with 1 Axes>"
            ]
          },
          "metadata": {
            "tags": [],
            "needs_background": "light"
          }
        },
        {
          "output_type": "stream",
          "text": [
            "\n",
            "100%|██████████| 10/10 [00:27<00:00,  2.79s/it]"
          ],
          "name": "stderr"
        },
        {
          "output_type": "stream",
          "text": [
            "170\n",
            "/n\n",
            "accuracy: 68.0 %\n"
          ],
          "name": "stdout"
        },
        {
          "output_type": "stream",
          "text": [
            "\n"
          ],
          "name": "stderr"
        }
      ]
    }
  ]
}